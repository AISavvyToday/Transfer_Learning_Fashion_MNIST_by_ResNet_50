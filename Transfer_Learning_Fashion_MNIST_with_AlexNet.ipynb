{
  "cells": [
    {
      "cell_type": "code",
      "execution_count": 1,
      "metadata": {
        "colab": {
          "base_uri": "https://localhost:8080/"
        },
        "id": "ANC0LsC3QD8D",
        "outputId": "9ae5bd7f-b257-49e5-b5b4-2a0ed8aca927"
      },
      "outputs": [
        {
          "output_type": "stream",
          "name": "stdout",
          "text": [
            "Mounted at /content/drive\n",
            "['fashion-mnist_test.csv', 'fashion-mnist_train.csv', 'Colab Notebooks', 'csc-578-hw7-fall-2023.zip', 'SURVEY TOOL.gform']\n"
          ]
        }
      ],
      "source": [
        "from google.colab import drive\n",
        "drive.mount('/content/drive')\n",
        "import os\n",
        "\n",
        "# Path to the root of your Google Drive\n",
        "drive_path = '/content/drive/My Drive/'\n",
        "\n",
        "# List all files and directories in the root of your Google Drive\n",
        "drive_contents = os.listdir(drive_path)\n",
        "print(drive_contents)"
      ]
    },
    {
      "cell_type": "markdown",
      "metadata": {
        "id": "6Y6YnQPE_d3f"
      },
      "source": [
        "# About Fashion MNIST"
      ]
    },
    {
      "cell_type": "markdown",
      "metadata": {
        "id": "dKcAz7t9_d3i"
      },
      "source": [
        "Here are the categories in the Fashion-MNIST\n",
        "\n",
        "|Label | Class |\n",
        "|-|-|\n",
        "|0|\tT-shirt/top|\n",
        "|1|\tTrouser|\n",
        "|2|\tPullover|\n",
        "|3|\tDress|\n",
        "|4|\tCoat|\n",
        "|5|\tSandal|\n",
        "|6|\tShirt|\n",
        "|7|\tSneaker|\n",
        "|8|\tBag|\n",
        "|9|\tAnkle boot|\n",
        "\n"
      ]
    },
    {
      "cell_type": "markdown",
      "metadata": {
        "id": "leRMF3KyQD8F"
      },
      "source": [
        "# Ready to work"
      ]
    },
    {
      "cell_type": "code",
      "execution_count": 2,
      "metadata": {
        "id": "zeg1LBTh6--t"
      },
      "outputs": [],
      "source": [
        "import os\n",
        "import torch\n",
        "import torchvision\n",
        "import numpy as np\n",
        "import pandas as pd\n",
        "import torch.nn as nn\n",
        "import torch.optim as optim\n",
        "import matplotlib.pyplot as plt\n",
        "import torch.nn.functional as F\n",
        "from PIL import Image\n",
        "from torchvision import transforms, datasets\n",
        "from torch.utils.data import Dataset, DataLoader"
      ]
    },
    {
      "cell_type": "markdown",
      "metadata": {
        "id": "pm9bNJysQD8F"
      },
      "source": [
        "Define some global variables"
      ]
    },
    {
      "cell_type": "code",
      "execution_count": 3,
      "metadata": {
        "colab": {
          "base_uri": "https://localhost:8080/"
        },
        "id": "mjj1rF6tQD8G",
        "outputId": "f1fb2bbf-0e88-47a0-e27e-de8d284360b5"
      },
      "outputs": [
        {
          "output_type": "stream",
          "name": "stdout",
          "text": [
            "2.1.0+cu118\n",
            "cuda\n"
          ]
        }
      ],
      "source": [
        "# training batches of our network\n",
        "EPOCHS = 10\n",
        "BATCH_SIZE = 512\n",
        "\n",
        "DEVICE = \"cuda\" if torch.cuda.is_available() else \"cpu\"\n",
        "class_names = ['T-shirt/top', 'Trouser', 'Pullover', 'Dress', 'Coat',\n",
        "               'Sandal', 'Shirt', 'Sneaker', 'Bag', 'Ankle boot']\n",
        "\n",
        "print(torch.__version__)\n",
        "print(DEVICE)"
      ]
    },
    {
      "cell_type": "markdown",
      "metadata": {
        "id": "fcnXRreC_d3o"
      },
      "source": [
        "# Load data"
      ]
    },
    {
      "cell_type": "markdown",
      "metadata": {
        "id": "wP-dK2dXQD8G"
      },
      "source": [
        "There are two ways to laod the Fashion-MNIST dataset:\n",
        "\n",
        "* use the dataset given in the `datasets.FashionMNIST`\n",
        "* use raw data\n",
        "\n",
        "Here I use the data on Kaggle, so we need to build the `dataset`\n",
        "\n",
        "Firstly, import the '.csv' files with `pd.read_csv`"
      ]
    },
    {
      "cell_type": "code",
      "execution_count": 4,
      "metadata": {
        "colab": {
          "base_uri": "https://localhost:8080/"
        },
        "id": "xa4spfPd_d3p",
        "outputId": "303b35ff-d33e-4e0e-eafd-0f21c5a5e280"
      },
      "outputs": [
        {
          "output_type": "stream",
          "name": "stdout",
          "text": [
            "(60000, 785)\n",
            "(10000, 785)\n"
          ]
        }
      ],
      "source": [
        "train_csv = pd.read_csv('/content/drive/My Drive/fashion-mnist_train.csv')\n",
        "test_csv = pd.read_csv('/content/drive/My Drive/fashion-mnist_test.csv')\n",
        "\n",
        "\n",
        "print(train_csv.shape)\n",
        "print(test_csv.shape)"
      ]
    },
    {
      "cell_type": "code",
      "execution_count": 5,
      "metadata": {
        "colab": {
          "base_uri": "https://localhost:8080/"
        },
        "id": "cI5Ce0bx_d3x",
        "outputId": "21632924-7497-4e90-e287-b339040d4e17"
      },
      "outputs": [
        {
          "output_type": "stream",
          "name": "stdout",
          "text": [
            "<class 'pandas.core.frame.DataFrame'>\n",
            "RangeIndex: 60000 entries, 0 to 59999\n",
            "Columns: 785 entries, label to pixel784\n",
            "dtypes: int64(785)\n",
            "memory usage: 359.3 MB\n",
            "None\n",
            "   label  pixel1  pixel2  pixel3  pixel4  pixel5  pixel6  pixel7  pixel8  \\\n",
            "0      2       0       0       0       0       0       0       0       0   \n",
            "1      9       0       0       0       0       0       0       0       0   \n",
            "2      6       0       0       0       0       0       0       0       5   \n",
            "3      0       0       0       0       1       2       0       0       0   \n",
            "4      3       0       0       0       0       0       0       0       0   \n",
            "\n",
            "   pixel9  ...  pixel775  pixel776  pixel777  pixel778  pixel779  pixel780  \\\n",
            "0       0  ...         0         0         0         0         0         0   \n",
            "1       0  ...         0         0         0         0         0         0   \n",
            "2       0  ...         0         0         0        30        43         0   \n",
            "3       0  ...         3         0         0         0         0         1   \n",
            "4       0  ...         0         0         0         0         0         0   \n",
            "\n",
            "   pixel781  pixel782  pixel783  pixel784  \n",
            "0         0         0         0         0  \n",
            "1         0         0         0         0  \n",
            "2         0         0         0         0  \n",
            "3         0         0         0         0  \n",
            "4         0         0         0         0  \n",
            "\n",
            "[5 rows x 785 columns]\n"
          ]
        }
      ],
      "source": [
        "print(train_csv.info())\n",
        "print(train_csv.head())"
      ]
    },
    {
      "cell_type": "markdown",
      "metadata": {
        "id": "MokwUqPiQD8H"
      },
      "source": [
        "As the output, the first row is the label of each image, and each image has 784 pixels"
      ]
    },
    {
      "cell_type": "markdown",
      "metadata": {
        "id": "-_PSYZvmQD8I"
      },
      "source": [
        "## Dataset"
      ]
    },
    {
      "cell_type": "markdown",
      "metadata": {
        "id": "AKOUAY4s_d37"
      },
      "source": [
        "To build our own dataset, need to create a class that inherits from the `Dataset`. Besides, function `get_item()` & `len()` must be defined at least\n",
        "\n",
        "- `get_item()` return the specified image and its label\n",
        "- `len()` return the number of dataset"
      ]
    },
    {
      "cell_type": "code",
      "execution_count": 6,
      "metadata": {
        "id": "ZzgxwITL_d38"
      },
      "outputs": [],
      "source": [
        "class FashionDataset(Dataset):\n",
        "    def __init__(self, data, transform=None):\n",
        "        self.fashion_MNIST = list(data.values)\n",
        "        self.transform = transform\n",
        "\n",
        "        label, image = [], []\n",
        "\n",
        "        for i in self.fashion_MNIST:\n",
        "            label.append(i[0])\n",
        "            image.append(i[1:])\n",
        "        self.labels = np.asarray(label)\n",
        "        self.images = np.asarray(image).reshape(-1, 28, 28).astype('float32')\n",
        "\n",
        "    def __len__(self):\n",
        "        return len(self.images)\n",
        "\n",
        "    def __getitem__(self, idx):\n",
        "        label = self.labels[idx]\n",
        "        image = self.images[idx]\n",
        "\n",
        "        if self.transform is not None:\n",
        "            # transfrom the numpy array to PIL image before the transform function\n",
        "            pil_image = Image.fromarray(np.uint8(image))\n",
        "            image = self.transform(pil_image)\n",
        "\n",
        "        return image, label"
      ]
    },
    {
      "cell_type": "markdown",
      "metadata": {
        "id": "0_DolIzJQD8I"
      },
      "source": [
        "## Transform"
      ]
    },
    {
      "cell_type": "markdown",
      "metadata": {
        "id": "Vpej90-i_d3_"
      },
      "source": [
        "Because the input size of AlexNet is $227*227$, and the image size of Fashion-MNIST is $28*28$, so we need to resize the image in the transform function\n",
        "> Since `transforms.Resize()` only works to the PIL Image,we transform the numpy array to PIL Image above"
      ]
    },
    {
      "cell_type": "code",
      "execution_count": 7,
      "metadata": {
        "id": "V_xGJIzw_d4A"
      },
      "outputs": [],
      "source": [
        "AlexTransform = transforms.Compose([\n",
        "    transforms.Resize((227, 227)),\n",
        "    transforms.RandomHorizontalFlip(),  # Data augmentation\n",
        "    transforms.RandomRotation(10),      # Data augmentation\n",
        "    transforms.ToTensor(),\n",
        "    transforms.Normalize((0.1307,), (0.3081,))\n",
        "])"
      ]
    },
    {
      "cell_type": "markdown",
      "metadata": {
        "id": "1firajBn_d4E"
      },
      "source": [
        "## DataLoader"
      ]
    },
    {
      "cell_type": "code",
      "execution_count": 8,
      "metadata": {
        "id": "KbxiLT1f_d4F"
      },
      "outputs": [],
      "source": [
        "train_loader = DataLoader(\n",
        "    FashionDataset(train_csv, transform=AlexTransform),\n",
        "    batch_size=BATCH_SIZE, shuffle=True)\n",
        "\n",
        "test_loader = DataLoader(\n",
        "    FashionDataset(test_csv, transform=AlexTransform),\n",
        "    batch_size=BATCH_SIZE, shuffle=True)"
      ]
    },
    {
      "cell_type": "markdown",
      "metadata": {
        "id": "HU1-qLWuQD8K"
      },
      "source": [
        "## Show images"
      ]
    },
    {
      "cell_type": "code",
      "execution_count": 9,
      "metadata": {
        "colab": {
          "base_uri": "https://localhost:8080/",
          "height": 454
        },
        "id": "H3kYxqScQD8K",
        "outputId": "5bf93d7c-38bc-4955-b084-8723932cbaf2"
      },
      "outputs": [
        {
          "output_type": "stream",
          "name": "stdout",
          "text": [
            "Trouser\n"
          ]
        },
        {
          "output_type": "display_data",
          "data": {
            "text/plain": [
              "<Figure size 640x480 with 1 Axes>"
            ],
            "image/png": "[encoded data removed]"
          },
          "metadata": {}
        }
      ],
      "source": [
        "# helper function to show an image\n",
        "def matplotlib_imshow(img):\n",
        "    img = img.mean(dim=0)  # Assuming img is a tensor and the mean is taken across color channels\n",
        "    img = img / 2 + 0.5     # unnormalize\n",
        "    npimg = img.numpy()\n",
        "    plt.imshow(npimg, cmap=\"Greys\")\n",
        "\n",
        "# create an iterator from the DataLoader\n",
        "dataiter = iter(train_loader)\n",
        "\n",
        "# get some random training images\n",
        "images, labels = next(dataiter)\n",
        "\n",
        "# create grid of images\n",
        "img_grid = torchvision.utils.make_grid(images[0])\n",
        "\n",
        "# show images & labels\n",
        "matplotlib_imshow(img_grid)\n",
        "print(class_names[labels[0]])\n"
      ]
    },
    {
      "cell_type": "markdown",
      "metadata": {
        "id": "DJPnzI7O_d4I"
      },
      "source": [
        "# AlexNet"
      ]
    },
    {
      "cell_type": "markdown",
      "metadata": {
        "id": "CXmoooBnQD8L"
      },
      "source": [
        "![](https://i.loli.net/2020/02/17/xd6oNRpWSK1cZy2.png)"
      ]
    },
    {
      "cell_type": "code",
      "execution_count": 10,
      "metadata": {
        "id": "pAi4_TFU_d4J"
      },
      "outputs": [],
      "source": [
        "class FashionMNISTAlexNet(nn.Module):\n",
        "    def __init__(self):\n",
        "        super(FashionMNISTAlexNet, self).__init__()\n",
        "        self.conv1 = nn.Sequential(\n",
        "            nn.Conv2d(in_channels=1, out_channels=96, kernel_size=11, stride=4, padding=0),\n",
        "            nn.ReLU(),\n",
        "            nn.MaxPool2d(kernel_size=3, stride=2)\n",
        "        )\n",
        "        self.conv2 = nn.Sequential(\n",
        "            nn.Conv2d(96, 256, 5, 1, 2),\n",
        "            nn.ReLU(),\n",
        "            nn.MaxPool2d(3, 2)\n",
        "        )\n",
        "        self.conv3 = nn.Sequential(\n",
        "            nn.Conv2d(256, 384, 3, 1, 1),\n",
        "            nn.ReLU()\n",
        "        )\n",
        "        self.conv4 = nn.Sequential(\n",
        "            nn.Conv2d(384, 384, 3, 1, 1),\n",
        "            nn.ReLU()\n",
        "        )\n",
        "        self.conv5 = nn.Sequential(\n",
        "            nn.Conv2d(384, 256, 3, 1, 1),\n",
        "            nn.ReLU(),\n",
        "            nn.MaxPool2d(3, 2)\n",
        "        )\n",
        "\n",
        "        self.fc1 = nn.Linear(256 * 6 * 6, 4096)\n",
        "        self.fc2 = nn.Linear(4096, 4096)\n",
        "        self.fc3 = nn.Linear(4096, 10)\n",
        "\n",
        "    def forward(self, x):\n",
        "        out = self.conv1(x)\n",
        "        out = self.conv2(out)\n",
        "        out = self.conv3(out)\n",
        "        out = self.conv4(out)\n",
        "        out = self.conv5(out)\n",
        "        out = out.view(out.size(0), -1)\n",
        "\n",
        "        out = F.relu(self.fc1(out))  # 256*6*6 -> 4096\n",
        "        out = F.dropout(out, 0.5)\n",
        "        out = F.relu(self.fc2(out))\n",
        "        out = F.dropout(out, 0.5)\n",
        "        out = self.fc3(out)\n",
        "        out = F.log_softmax(out, dim=1)\n",
        "\n",
        "        return out\n"
      ]
    },
    {
      "cell_type": "markdown",
      "metadata": {
        "id": "htbYHgHnZP0r"
      },
      "source": [
        "# model\n"
      ]
    },
    {
      "cell_type": "code",
      "execution_count": 11,
      "metadata": {
        "id": "1SqUo_21_d4M"
      },
      "outputs": [],
      "source": [
        "model = FashionMNISTAlexNet().to(DEVICE)\n",
        "criterion = nn.CrossEntropyLoss()\n",
        "optimizer = optim.Adam(model.parameters(), lr=0.001)"
      ]
    },
    {
      "cell_type": "markdown",
      "metadata": {
        "id": "yOhyXpQNZUVI"
      },
      "source": [
        "## train fundation"
      ]
    },
    {
      "cell_type": "code",
      "execution_count": 12,
      "metadata": {
        "id": "4X8gTFBh_d4O"
      },
      "outputs": [],
      "source": [
        "def train(model, device, train_loader, optimer, epoch):\n",
        "    model.train()\n",
        "    for batch_idx, (data, target) in enumerate(train_loader):\n",
        "        target = target.type(torch.LongTensor)\n",
        "        data, target = data.to(device), target.to(device)\n",
        "        optimizer.zero_grad()\n",
        "        output = model(data)\n",
        "        loss = criterion(output, target)\n",
        "        loss.backward()\n",
        "        optimizer.step()\n",
        "        if (batch_idx + 1) % 30 == 0:\n",
        "            print(\"Train Epoch:{} [{}/{} ({:.0f}%)]\\tLoss: {:.6f}\".format(\n",
        "                epoch, batch_idx * len(data), len(train_loader.dataset),\n",
        "                100. * batch_idx / len(train_loader), loss.item()))"
      ]
    },
    {
      "cell_type": "markdown",
      "metadata": {
        "id": "w4cCPiOPZXkC"
      },
      "source": [
        "## test function\n"
      ]
    },
    {
      "cell_type": "code",
      "execution_count": 16,
      "metadata": {
        "id": "kGhwH-H-_d4S"
      },
      "outputs": [],
      "source": [
        "def test(model, device, test_loader):\n",
        "    model.eval()\n",
        "    test_loss = 0\n",
        "    correct = 0\n",
        "    with torch.no_grad():\n",
        "        for data, target in test_loader:\n",
        "            data, target = data.to(device), target.to(device)\n",
        "            output = model(data)\n",
        "            test_loss += criterion(output, target).item()\n",
        "            pred = output.max(1, keepdim=True)[1]\n",
        "            correct += pred.eq(target.view_as(pred)).sum().item()\n",
        "\n",
        "        test_loss /= len(test_loader.dataset)  # loss之和除以data数量 -> mean\n",
        "        print(\"\\nTest set: Average loss: {:.4f}, Accuracy: {}/{} ({:.0f}%)\\n\".format(\n",
        "            test_loss, correct, len(test_loader.dataset), 100. * correct / len(test_loader.dataset)))\n",
        "        print('='*50)\n"
      ]
    },
    {
      "cell_type": "markdown",
      "metadata": {
        "id": "wy6-W8TFZa-5"
      },
      "source": [
        "# Begin to Train"
      ]
    },
    {
      "cell_type": "code",
      "execution_count": 17,
      "metadata": {
        "colab": {
          "base_uri": "https://localhost:8080/"
        },
        "id": "Iy6cq2T2_d4V",
        "outputId": "5571fd02-4cf0-4ebd-d3cb-3b869a556cd7"
      },
      "outputs": [
        {
          "output_type": "stream",
          "name": "stdout",
          "text": [
            "Train Epoch:1 [14848/60000 (25%)]\tLoss: 0.356921\n",
            "Train Epoch:1 [30208/60000 (50%)]\tLoss: 0.396907\n",
            "Train Epoch:1 [45568/60000 (75%)]\tLoss: 0.314554\n",
            "\n",
            "Test set: Average loss: 0.0006, Accuracy: 8813/10000 (88%)\n",
            "\n",
            "==================================================\n",
            "Train Epoch:2 [14848/60000 (25%)]\tLoss: 0.329058\n",
            "Train Epoch:2 [30208/60000 (50%)]\tLoss: 0.340799\n",
            "Train Epoch:2 [45568/60000 (75%)]\tLoss: 0.268707\n",
            "\n",
            "Test set: Average loss: 0.0006, Accuracy: 8917/10000 (89%)\n",
            "\n",
            "==================================================\n",
            "Train Epoch:3 [14848/60000 (25%)]\tLoss: 0.328639\n",
            "Train Epoch:3 [30208/60000 (50%)]\tLoss: 0.302489\n",
            "Train Epoch:3 [45568/60000 (75%)]\tLoss: 0.280482\n",
            "\n",
            "Test set: Average loss: 0.0006, Accuracy: 8970/10000 (90%)\n",
            "\n",
            "==================================================\n",
            "Train Epoch:4 [14848/60000 (25%)]\tLoss: 0.288619\n",
            "Train Epoch:4 [30208/60000 (50%)]\tLoss: 0.247308\n",
            "Train Epoch:4 [45568/60000 (75%)]\tLoss: 0.252164\n",
            "\n",
            "Test set: Average loss: 0.0005, Accuracy: 9079/10000 (91%)\n",
            "\n",
            "==================================================\n",
            "Train Epoch:5 [14848/60000 (25%)]\tLoss: 0.265776\n",
            "Train Epoch:5 [30208/60000 (50%)]\tLoss: 0.230047\n",
            "Train Epoch:5 [45568/60000 (75%)]\tLoss: 0.291527\n",
            "\n",
            "Test set: Average loss: 0.0005, Accuracy: 9058/10000 (91%)\n",
            "\n",
            "==================================================\n",
            "Train Epoch:6 [14848/60000 (25%)]\tLoss: 0.250396\n",
            "Train Epoch:6 [30208/60000 (50%)]\tLoss: 0.256761\n",
            "Train Epoch:6 [45568/60000 (75%)]\tLoss: 0.230901\n",
            "\n",
            "Test set: Average loss: 0.0005, Accuracy: 9085/10000 (91%)\n",
            "\n",
            "==================================================\n",
            "Train Epoch:7 [14848/60000 (25%)]\tLoss: 0.310773\n",
            "Train Epoch:7 [30208/60000 (50%)]\tLoss: 0.246592\n",
            "Train Epoch:7 [45568/60000 (75%)]\tLoss: 0.191840\n",
            "\n",
            "Test set: Average loss: 0.0005, Accuracy: 9040/10000 (90%)\n",
            "\n",
            "==================================================\n",
            "Train Epoch:8 [14848/60000 (25%)]\tLoss: 0.205875\n",
            "Train Epoch:8 [30208/60000 (50%)]\tLoss: 0.231421\n",
            "Train Epoch:8 [45568/60000 (75%)]\tLoss: 0.224503\n",
            "\n",
            "Test set: Average loss: 0.0005, Accuracy: 9068/10000 (91%)\n",
            "\n",
            "==================================================\n",
            "Train Epoch:9 [14848/60000 (25%)]\tLoss: 0.216652\n",
            "Train Epoch:9 [30208/60000 (50%)]\tLoss: 0.193222\n",
            "Train Epoch:9 [45568/60000 (75%)]\tLoss: 0.165688\n",
            "\n",
            "Test set: Average loss: 0.0004, Accuracy: 9193/10000 (92%)\n",
            "\n",
            "==================================================\n",
            "Train Epoch:10 [14848/60000 (25%)]\tLoss: 0.174566\n",
            "Train Epoch:10 [30208/60000 (50%)]\tLoss: 0.176572\n",
            "Train Epoch:10 [45568/60000 (75%)]\tLoss: 0.195704\n",
            "\n",
            "Test set: Average loss: 0.0004, Accuracy: 9174/10000 (92%)\n",
            "\n",
            "==================================================\n"
          ]
        }
      ],
      "source": [
        "for epoch in range(1, EPOCHS + 1):\n",
        "    train(model, DEVICE, train_loader, optimizer, epoch)\n",
        "    test(model, DEVICE, test_loader)"
      ]
    },
    {
      "cell_type": "markdown",
      "metadata": {
        "id": "EHATTj68QD8W"
      },
      "source": [
        "### Model Performance Comparison: AlexNet vs. ResNet50 (10 Epochs)\n",
        "\n",
        "#### AlexNet Results:\n",
        "- Final training accuracy: Approximately 91.9%\n",
        "- Final test accuracy: Approximately 91.4%\n",
        "- Observations: The model shows a consistent increase in accuracy over epochs, indicating steady learning. The small gap between training and test accuracy suggests that the model generalizes well.\n",
        "\n",
        "#### ResNet50 Results:\n",
        "- Final training accuracy: 100%\n",
        "- Final test accuracy: Approximately 89.0%\n",
        "- Observations: ResNet50 achieves perfect training accuracy, which might indicate overfitting, as the test accuracy is significantly lower. Despite its deeper architecture, it does not outperform AlexNet on the test set.\n",
        "\n",
        "### Interpretation:\n",
        "- **Generalization**: AlexNet seems to generalize better to unseen data in this scenario, as indicated by the closer performance metrics between training and testing.\n",
        "- **Overfitting**: ResNet50, while achieving higher training accuracy, appears to overfit the training data, leading to lower test accuracy compared to AlexNet.\n",
        "- **Complexity vs. Dataset Simplicity**: The superior performance of AlexNet may suggest that for a relatively simple dataset like Fashion MNIST, a less complex model can be more appropriate and efficient.\n",
        "- **Training Dynamics**: The training process of ResNet50 shows a rapid climb to high training accuracy, which is not matched by its test accuracy, hinting that the model may benefit from techniques to mitigate overfitting, such as regularization or more extensive data augmentation.\n",
        "\n",
        "In conclusion, while ResNet50 is a more complex model with a capacity for higher learning, AlexNet provides a better balance between training and test performance for the Fashion MNIST dataset within the 10 epochs of training."
      ]
    },
    {
      "cell_type": "code",
      "execution_count": null,
      "metadata": {
        "id": "hLXR-B28YFzU"
      },
      "outputs": [],
      "source": []
    }
  ],
  "metadata": {
    "accelerator": "GPU",
    "colab": {
      "provenance": []
    },
    "kernelspec": {
      "display_name": "Python 3",
      "name": "python3"
    },
    "language_info": {
      "name": "python"
    }
  },
  "nbformat": 4,
  "nbformat_minor": 0
}